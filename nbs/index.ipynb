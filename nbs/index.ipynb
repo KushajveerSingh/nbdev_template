{
 "cells": [
  {
   "cell_type": "markdown",
   "metadata": {},
   "source": [
    "**Note**:- If you are reading this message, then it means this is still work in progress. Some things mentioned in README may not work."
   ]
  },
  {
   "cell_type": "markdown",
   "metadata": {},
   "source": [
    "# {Project Name}\n",
    "\n",
    "> Summary description here."
   ]
  },
  {
   "cell_type": "markdown",
   "metadata": {},
   "source": [
    "[![CI-Badge](https://github.com/KushajveerSingh/{REPO_NAME}/workflows/CI/badge.svg)](https://github.com/KushajveerSingh/{REPO_NAME}/actions?query=workflow%3ACI) [![PyPI](https://img.shields.io/pypi/v/{REPO_NAME}?color=blue&label=pypi%20version)](https://pypi.org/project/{REPO_NAME}/#description) [![Docker](https://raw.githubusercontent.com/KushajveerSingh/nbdev_template/master/docs/images/docker%20image-not%20available-red.svg)](https://hub.docker.com/repository/docker/kushaj/{REPO_NAME})"
   ]
  },
  {
   "cell_type": "markdown",
   "metadata": {},
   "source": [
    "<!-- START doctoc -->\n",
    "<!-- END doctoc -->"
   ]
  },
  {
   "cell_type": "markdown",
   "metadata": {},
   "source": [
    "## Installation"
   ]
  },
  {
   "cell_type": "markdown",
   "metadata": {},
   "source": [
    "### PyPI\n",
    "```\n",
    "pip install {REPO_NAME}\n",
    "```"
   ]
  },
  {
   "cell_type": "markdown",
   "metadata": {},
   "source": [
    "### Docker Image\n",
    "The docker image builds on [kushaj/fastai](https://hub.docker.com/repository/docker/kushaj/fastai) docker image. I have setup **Ubuntu, sudo, default user, conda, jupyter, cuda, pytorch, fastai** in the base image. Please, check the [README](https://hub.docker.com/repository/docker/kushaj/fastai/) for the complete details of the base image.\n",
    "\n",
    "To pull the image from [Dockerhub](https://hub.docker.com/repository/docker/kushaj/{REPO_NAME}), use this command\n",
    "```\n",
    "docker pull kushaj/{REPO_NAME}:latest\n",
    "```\n",
    "\n",
    "Now you can start a container using this command\n",
    "```\n",
    "docker run -it --gpus all --name {REPO_NAME} -p 8889:8889 --ipc=host kushaj/{REPO_NAME}\n",
    "```\n",
    "\n",
    "* `-it` - opens a terminal connected to the container\n",
    "* `--gpus all` - which GPUs to use in the container (use `device=0` to only use GPU0)\n",
    "* `--name {REPO_NAME}` - name of the container (can by anything)\n",
    "* `-p 8889:8889` - format is {host_port}:{container_port}. This is used to run the jupyter notebook. \n",
    "* `--ipc=host` - PyTorch uses shared memory to share data between processes, so if torch multiprocessing is used (e.g. for multithreaded data loaders) the default shared memory segment size that container runs with is not enough and using `--ipc=host` resolves this issue.\n",
    "\n",
    "If you want to add another terminal to the container, run `docker ps` to get the **id** of the container you want to connect the terminal to. Now use this command to add a terminal `docker exec -it {id} bash`."
   ]
  },
  {
   "cell_type": "markdown",
   "metadata": {},
   "source": [
    "### From Source\n",
    "```\n",
    "git clone --depth=1 https://github.com/KushajveerSingh/{REPO_NAME}.git\n",
    "cd {REPO_NAME}\n",
    "pip install .\n",
    "```\n",
    "\n",
    "If you want to browse the notebooks and build the library from them you will need [nbdev](https://nbdev.fast.ai/)."
   ]
  },
  {
   "cell_type": "markdown",
   "metadata": {},
   "source": [
    "## Usage details"
   ]
  },
  {
   "cell_type": "markdown",
   "metadata": {},
   "source": [
    "## Tests\n",
    "To run the tests under `tests` folder, use this command in the home directory ([hypothesis](https://pypi.org/project/hypothesis/) must be installed):\n",
    "```\n",
    "python -m unittest discover -s tests -v\n",
    "```\n",
    "\n",
    "To run `nbdev` tests i.e. run the jupyter notebooks in `nbs` folder, use this command:\n",
    "```\n",
    "nbdev_test_nbs\n",
    "```\n",
    "\n",
    "**Note**:- `nbdev_test_nbs` runs the notebooks in parallel. If the notebook contains some training code (in which a model is trained), then that code will also run. You can comment out the code that issues the training of model, or mark those cells as [slow](https://nbdev.fast.ai/test/), so that these cells do not run and the tests can complete is meaningful time."
   ]
  },
  {
   "cell_type": "markdown",
   "metadata": {},
   "source": [
    "## Contributing\n",
    "After you clone this repository, please run `nbdev_install_git_hooks` in your terminal. This sets up git hooks, which clean up the notebooks to remove the extraneous stuff stored in the notebooks (e.g. which cells you ran) which causes unnecessary merge conflicts. Install [nbdev](https://github.com/fastai/nbdev) is not available.\n",
    "\n",
    "Before submitting a PR, check that the local library and notebooks match. The script `nbdev_diff_nbs` can let you know if there is a difference between the local library and the notebooks.\n",
    "* If you made a change to the notebooks in one of the exported cells, you can export it to the library with `nbdev_build_lib`.\n",
    "* If you made a change to the library, you can export it back to the notebooks with `nbdev_update_lib`."
   ]
  },
  {
   "cell_type": "markdown",
   "metadata": {},
   "source": [
    "## License\n",
    "[Apache License 2.0](LICENSE)"
   ]
  }
 ],
 "metadata": {
  "kernelspec": {
   "display_name": "Python 3",
   "language": "python",
   "name": "python3"
  }
 },
 "nbformat": 4,
 "nbformat_minor": 2
}
