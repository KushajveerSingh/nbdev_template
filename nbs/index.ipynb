{
 "cells": [
  {
   "cell_type": "markdown",
   "metadata": {},
   "source": [
    "**Note**:- If you are reading this message, then it means this is still work in progress. Some things mentioned in README may not work."
   ]
  },
  {
   "cell_type": "markdown",
   "metadata": {},
   "source": [
    "# {Project Name}\n",
    "\n",
    "> Summary description here."
   ]
  },
  {
   "cell_type": "markdown",
   "metadata": {},
   "source": [
    "[![CI-Badge](https://github.com/KushajveerSingh/{REPO_NAME}/workflows/CI/badge.svg)](https://github.com/KushajveerSingh/{REPO_NAME}/actions?query=workflow%3ACI) [![PyPI](https://img.shields.io/pypi/v/{REPO_NAME}?color=blue&label=pypi%20version)](https://pypi.org/project/{REPO_NAME}/#description)"
   ]
  },
  {
   "cell_type": "markdown",
   "metadata": {},
   "source": [
    "Relevant links"
   ]
  },
  {
   "cell_type": "markdown",
   "metadata": {},
   "source": [
    "<!-- START doctoc -->\n",
    "<!-- END doctoc -->"
   ]
  },
  {
   "cell_type": "markdown",
   "metadata": {},
   "source": [
    "## Install"
   ]
  },
  {
   "cell_type": "markdown",
   "metadata": {},
   "source": [
    "`pip install your_project_name`"
   ]
  },
  {
   "cell_type": "markdown",
   "metadata": {},
   "source": [
    "## How to use"
   ]
  },
  {
   "cell_type": "markdown",
   "metadata": {},
   "source": [
    "Fill me in please! Don't forget code examples:"
   ]
  },
  {
   "cell_type": "code",
   "execution_count": null,
   "metadata": {},
   "outputs": [
    {
     "data": {
      "text/plain": [
       "2"
      ]
     },
     "execution_count": null,
     "metadata": {},
     "output_type": "execute_result"
    }
   ],
   "source": [
    "1+1"
   ]
  },
  {
   "cell_type": "markdown",
   "metadata": {},
   "source": [
    "## Tests\n",
    "To run the tests under `tests` folder, use this command ([hypothesis](https://pypi.org/project/hypothesis/) must be installed):\n",
    "```\n",
    "python -m unittest discover -s tests -v\n",
    "```\n",
    "\n",
    "To run `nbdev` tests i.e. run the jupyter notebooks in `nbs` folder:\n",
    "```\n",
    "nbdev_test_nbs\n",
    "```\n",
    "\n",
    "**Note**:- `nbdev_test_nbs` runs the notebooks in parallel. If the notebook contains some training code (in which a model is trained), then this will also be run. You can comment out the code that issues the training of model, or mark those cells as [slow](https://nbdev.fast.ai/test/), so that these cells do not run and the tests can complete is meaningful time."
   ]
  },
  {
   "cell_type": "markdown",
   "metadata": {},
   "source": [
    "## Contributing\n",
    "After you clone this repository, please run `nbdev_install_git_hooks` in your terminal. This sets up git hooks, which clean up the notebooks to remove the extraneous stuff stored in the notebooks (e.g. which cells you ran) which causes unnecessary merge conflicts. Install [nbdev](https://github.com/fastai/nbdev) is not available.\n",
    "\n",
    "Before submitting a PR, check that the local library and notebooks match. The script `nbdev_diff_nbs` can let you know if there is a difference between the local library and the notebooks.\n",
    "* If you made a change to the notebooks in one of the exported cells, you can export it to the library with `nbdev_build_lib`.\n",
    "* If you made a change to the library, you can export it back to the notebooks with `nbdev_update_lib`."
   ]
  },
  {
   "cell_type": "markdown",
   "metadata": {},
   "source": [
    "## License\n",
    "[Apache License 2.0](LICENSE)"
   ]
  }
 ],
 "metadata": {
  "kernelspec": {
   "display_name": "Python 3",
   "language": "python",
   "name": "python3"
  }
 },
 "nbformat": 4,
 "nbformat_minor": 2
}
